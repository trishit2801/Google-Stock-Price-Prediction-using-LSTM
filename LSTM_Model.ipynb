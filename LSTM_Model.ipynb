{
 "cells": [
  {
   "cell_type": "markdown",
   "id": "8e8f1287",
   "metadata": {},
   "source": [
    "### Data Preprocessing"
   ]
  },
  {
   "cell_type": "code",
   "execution_count": 3,
   "id": "074558db",
   "metadata": {},
   "outputs": [],
   "source": [
    "# Importing the libraries"
   ]
  },
  {
   "cell_type": "code",
   "execution_count": 4,
   "id": "f6d42b0d",
   "metadata": {},
   "outputs": [],
   "source": [
    "import numpy as np\n",
    "import matplotlib.pyplot as plt\n",
    "import pandas as pd"
   ]
  },
  {
   "cell_type": "code",
   "execution_count": null,
   "id": "716a8e2f",
   "metadata": {},
   "outputs": [],
   "source": [
    "# Importing the training set"
   ]
  },
  {
   "cell_type": "code",
   "execution_count": 5,
   "id": "9aae2a27",
   "metadata": {},
   "outputs": [],
   "source": [
    "dataset_train = pd.read_csv('Google_Stock_Price_Train.csv')\n",
    "training_set = dataset_train.iloc[:, 1:2].values"
   ]
  },
  {
   "cell_type": "code",
   "execution_count": null,
   "id": "87a0bd15",
   "metadata": {},
   "outputs": [],
   "source": [
    "# Feature Scaling"
   ]
  },
  {
   "cell_type": "code",
   "execution_count": 6,
   "id": "8428c74a",
   "metadata": {},
   "outputs": [],
   "source": [
    "from sklearn.preprocessing import MinMaxScaler\n",
    "sc = MinMaxScaler(feature_range = (0, 1))\n",
    "training_set_scaled = sc.fit_transform(training_set)"
   ]
  },
  {
   "cell_type": "code",
   "execution_count": null,
   "id": "83906597",
   "metadata": {},
   "outputs": [],
   "source": [
    "# Creating a data structure with 60 timesteps and 1 output"
   ]
  },
  {
   "cell_type": "code",
   "execution_count": 7,
   "id": "91041754",
   "metadata": {},
   "outputs": [
    {
     "data": {
      "text/plain": [
       "1258"
      ]
     },
     "execution_count": 7,
     "metadata": {},
     "output_type": "execute_result"
    }
   ],
   "source": [
    "len(training_set)"
   ]
  },
  {
   "cell_type": "code",
   "execution_count": 8,
   "id": "f5d84cbd",
   "metadata": {},
   "outputs": [],
   "source": [
    "X_train = []\n",
    "y_train = []\n",
    "for i in range(60, 1258):\n",
    "    X_train.append(training_set_scaled[i-60:i, 0])\n",
    "    y_train.append(training_set_scaled[i, 0])\n",
    "X_train, y_train = np.array(X_train), np.array(y_train)"
   ]
  },
  {
   "cell_type": "code",
   "execution_count": null,
   "id": "6424c4f2",
   "metadata": {},
   "outputs": [],
   "source": [
    "# Reshaping / Adding a new dimension"
   ]
  },
  {
   "cell_type": "code",
   "execution_count": 13,
   "id": "c270f3d1",
   "metadata": {},
   "outputs": [],
   "source": [
    "X_train = np.reshape(X_train, (X_train.shape[0], X_train.shape[1], 1)) # here '1' is the no.of indicators which is 'Open Price' over here"
   ]
  },
  {
   "cell_type": "code",
   "execution_count": 17,
   "id": "e9b02051",
   "metadata": {},
   "outputs": [
    {
     "data": {
      "text/plain": [
       "(1198, 60, 1)"
      ]
     },
     "execution_count": 17,
     "metadata": {},
     "output_type": "execute_result"
    }
   ],
   "source": [
    "X_train.shape"
   ]
  },
  {
   "cell_type": "markdown",
   "id": "05c6eff1",
   "metadata": {},
   "source": [
    "### Building the RNN"
   ]
  },
  {
   "cell_type": "code",
   "execution_count": null,
   "id": "75835742",
   "metadata": {},
   "outputs": [],
   "source": [
    "# Importing the Keras libraries and packages"
   ]
  },
  {
   "cell_type": "code",
   "execution_count": 15,
   "id": "15dbd853",
   "metadata": {},
   "outputs": [],
   "source": [
    "from tensorflow.keras.models import Sequential\n",
    "from tensorflow.keras.layers import Dense\n",
    "from tensorflow.keras.layers import LSTM\n",
    "from tensorflow.keras.layers import Dropout"
   ]
  },
  {
   "cell_type": "code",
   "execution_count": null,
   "id": "f2a97fce",
   "metadata": {},
   "outputs": [],
   "source": [
    "# Initialising the RNN"
   ]
  },
  {
   "cell_type": "code",
   "execution_count": 16,
   "id": "ea8bf336",
   "metadata": {},
   "outputs": [],
   "source": [
    "regressor = Sequential()"
   ]
  },
  {
   "cell_type": "code",
   "execution_count": null,
   "id": "af819cbd",
   "metadata": {},
   "outputs": [],
   "source": [
    "# Adding the first LSTM layer and some Dropout regularisation"
   ]
  },
  {
   "cell_type": "code",
   "execution_count": 18,
   "id": "78e813f5",
   "metadata": {},
   "outputs": [],
   "source": [
    "regressor.add(LSTM(units = 50, return_sequences = True, input_shape = (X_train.shape[1], 1)))"
   ]
  },
  {
   "cell_type": "code",
   "execution_count": 19,
   "id": "5f715e92",
   "metadata": {},
   "outputs": [],
   "source": [
    "regressor.add(Dropout(0.2))"
   ]
  },
  {
   "cell_type": "code",
   "execution_count": null,
   "id": "cb00a4ea",
   "metadata": {},
   "outputs": [],
   "source": [
    "# Adding a second LSTM layer and some Dropout regularisation"
   ]
  },
  {
   "cell_type": "code",
   "execution_count": 20,
   "id": "3f3c3beb",
   "metadata": {},
   "outputs": [],
   "source": [
    "regressor.add(LSTM(units = 50, return_sequences = True))"
   ]
  },
  {
   "cell_type": "code",
   "execution_count": 21,
   "id": "4c4f0d90",
   "metadata": {},
   "outputs": [],
   "source": [
    "regressor.add(Dropout(0.2))"
   ]
  },
  {
   "cell_type": "code",
   "execution_count": null,
   "id": "7ddce4c1",
   "metadata": {},
   "outputs": [],
   "source": [
    "# Adding a third LSTM layer and some Dropout regularisation"
   ]
  },
  {
   "cell_type": "code",
   "execution_count": 22,
   "id": "7e947562",
   "metadata": {},
   "outputs": [],
   "source": [
    "regressor.add(LSTM(units = 50, return_sequences = True))"
   ]
  },
  {
   "cell_type": "code",
   "execution_count": 23,
   "id": "fe9681ea",
   "metadata": {},
   "outputs": [],
   "source": [
    "regressor.add(Dropout(0.2))"
   ]
  },
  {
   "cell_type": "code",
   "execution_count": null,
   "id": "6eaca03d",
   "metadata": {},
   "outputs": [],
   "source": [
    "# Adding a fourth LSTM layer and some Dropout regularisation"
   ]
  },
  {
   "cell_type": "code",
   "execution_count": 24,
   "id": "90fd40dc",
   "metadata": {},
   "outputs": [],
   "source": [
    "regressor.add(LSTM(units = 50))"
   ]
  },
  {
   "cell_type": "code",
   "execution_count": 25,
   "id": "e45ef409",
   "metadata": {},
   "outputs": [],
   "source": [
    "regressor.add(Dropout(0.2))"
   ]
  },
  {
   "cell_type": "code",
   "execution_count": null,
   "id": "982f41f2",
   "metadata": {},
   "outputs": [],
   "source": [
    "# Adding the output layer"
   ]
  },
  {
   "cell_type": "code",
   "execution_count": 26,
   "id": "65aa36a5",
   "metadata": {},
   "outputs": [],
   "source": [
    "regressor.add(Dense(units = 1))"
   ]
  },
  {
   "cell_type": "markdown",
   "id": "308ffc29",
   "metadata": {},
   "source": [
    "### Compiling the RNN"
   ]
  },
  {
   "cell_type": "code",
   "execution_count": 27,
   "id": "2b69900e",
   "metadata": {},
   "outputs": [],
   "source": [
    "regressor.compile(optimizer = 'adam', loss = 'mean_squared_error')\n",
    "\n",
    "# for regression we use 'mean_squared_error' as the loss function"
   ]
  },
  {
   "cell_type": "markdown",
   "id": "cea1f2e9",
   "metadata": {},
   "source": [
    "### Training the RNN Model by fitting the RNN to the training set"
   ]
  },
  {
   "cell_type": "code",
   "execution_count": 29,
   "id": "14257dc7",
   "metadata": {},
   "outputs": [
    {
     "name": "stdout",
     "output_type": "stream",
     "text": [
      "Epoch 1/100\n",
      "38/38 [==============================] - 2s 49ms/step - loss: 0.0040\n",
      "Epoch 2/100\n",
      "38/38 [==============================] - 2s 49ms/step - loss: 0.0043\n",
      "Epoch 3/100\n",
      "38/38 [==============================] - 2s 50ms/step - loss: 0.0039\n",
      "Epoch 4/100\n",
      "38/38 [==============================] - 2s 51ms/step - loss: 0.0039\n",
      "Epoch 5/100\n",
      "38/38 [==============================] - 2s 51ms/step - loss: 0.0036\n",
      "Epoch 6/100\n",
      "38/38 [==============================] - 2s 51ms/step - loss: 0.0039\n",
      "Epoch 7/100\n",
      "38/38 [==============================] - 2s 51ms/step - loss: 0.0034\n",
      "Epoch 8/100\n",
      "38/38 [==============================] - 2s 51ms/step - loss: 0.0044\n",
      "Epoch 9/100\n",
      "38/38 [==============================] - 2s 51ms/step - loss: 0.0044\n",
      "Epoch 10/100\n",
      "38/38 [==============================] - 2s 51ms/step - loss: 0.0034\n",
      "Epoch 11/100\n",
      "38/38 [==============================] - 2s 52ms/step - loss: 0.0036\n",
      "Epoch 12/100\n",
      "38/38 [==============================] - 2s 51ms/step - loss: 0.0035\n",
      "Epoch 13/100\n",
      "38/38 [==============================] - 2s 53ms/step - loss: 0.0033\n",
      "Epoch 14/100\n",
      "38/38 [==============================] - 2s 56ms/step - loss: 0.0033\n",
      "Epoch 15/100\n",
      "38/38 [==============================] - 2s 53ms/step - loss: 0.0030\n",
      "Epoch 16/100\n",
      "38/38 [==============================] - 2s 53ms/step - loss: 0.0033\n",
      "Epoch 17/100\n",
      "38/38 [==============================] - 2s 53ms/step - loss: 0.0032\n",
      "Epoch 18/100\n",
      "38/38 [==============================] - 2s 53ms/step - loss: 0.0028\n",
      "Epoch 19/100\n",
      "38/38 [==============================] - 2s 53ms/step - loss: 0.0029\n",
      "Epoch 20/100\n",
      "38/38 [==============================] - 2s 55ms/step - loss: 0.0026\n",
      "Epoch 21/100\n",
      "38/38 [==============================] - 2s 58ms/step - loss: 0.0030\n",
      "Epoch 22/100\n",
      "38/38 [==============================] - 2s 55ms/step - loss: 0.0030\n",
      "Epoch 23/100\n",
      "38/38 [==============================] - 2s 53ms/step - loss: 0.0026\n",
      "Epoch 24/100\n",
      "38/38 [==============================] - 2s 53ms/step - loss: 0.0026\n",
      "Epoch 25/100\n",
      "38/38 [==============================] - 2s 53ms/step - loss: 0.0033\n",
      "Epoch 26/100\n",
      "38/38 [==============================] - 2s 54ms/step - loss: 0.0026\n",
      "Epoch 27/100\n",
      "38/38 [==============================] - 2s 55ms/step - loss: 0.0030\n",
      "Epoch 28/100\n",
      "38/38 [==============================] - 2s 55ms/step - loss: 0.0027\n",
      "Epoch 29/100\n",
      "38/38 [==============================] - 2s 59ms/step - loss: 0.0026\n",
      "Epoch 30/100\n",
      "38/38 [==============================] - 2s 55ms/step - loss: 0.0023\n",
      "Epoch 31/100\n",
      "38/38 [==============================] - 2s 54ms/step - loss: 0.0027\n",
      "Epoch 32/100\n",
      "38/38 [==============================] - 2s 54ms/step - loss: 0.0028\n",
      "Epoch 33/100\n",
      "38/38 [==============================] - 2s 54ms/step - loss: 0.0025\n",
      "Epoch 34/100\n",
      "38/38 [==============================] - 2s 55ms/step - loss: 0.0025\n",
      "Epoch 35/100\n",
      "38/38 [==============================] - 2s 55ms/step - loss: 0.0028\n",
      "Epoch 36/100\n",
      "38/38 [==============================] - 2s 55ms/step - loss: 0.0029\n",
      "Epoch 37/100\n",
      "38/38 [==============================] - 2s 55ms/step - loss: 0.0026\n",
      "Epoch 38/100\n",
      "38/38 [==============================] - 2s 56ms/step - loss: 0.0023\n",
      "Epoch 39/100\n",
      "38/38 [==============================] - 2s 55ms/step - loss: 0.0023\n",
      "Epoch 40/100\n",
      "38/38 [==============================] - 2s 56ms/step - loss: 0.0022\n",
      "Epoch 41/100\n",
      "38/38 [==============================] - 2s 55ms/step - loss: 0.0023\n",
      "Epoch 42/100\n",
      "38/38 [==============================] - 2s 58ms/step - loss: 0.0025\n",
      "Epoch 43/100\n",
      "38/38 [==============================] - 2s 56ms/step - loss: 0.0026\n",
      "Epoch 44/100\n",
      "38/38 [==============================] - 2s 55ms/step - loss: 0.0021\n",
      "Epoch 45/100\n",
      "38/38 [==============================] - 2s 55ms/step - loss: 0.0023\n",
      "Epoch 46/100\n",
      "38/38 [==============================] - 2s 55ms/step - loss: 0.0023\n",
      "Epoch 47/100\n",
      "38/38 [==============================] - 2s 54ms/step - loss: 0.0022\n",
      "Epoch 48/100\n",
      "38/38 [==============================] - 2s 55ms/step - loss: 0.0021\n",
      "Epoch 49/100\n",
      "38/38 [==============================] - 2s 56ms/step - loss: 0.0019\n",
      "Epoch 50/100\n",
      "38/38 [==============================] - 2s 56ms/step - loss: 0.0021\n",
      "Epoch 51/100\n",
      "38/38 [==============================] - 2s 57ms/step - loss: 0.0019\n",
      "Epoch 52/100\n",
      "38/38 [==============================] - 2s 64ms/step - loss: 0.0019\n",
      "Epoch 53/100\n",
      "38/38 [==============================] - 2s 61ms/step - loss: 0.0023\n",
      "Epoch 54/100\n",
      "38/38 [==============================] - 2s 65ms/step - loss: 0.0022\n",
      "Epoch 55/100\n",
      "38/38 [==============================] - 2s 66ms/step - loss: 0.0022\n",
      "Epoch 56/100\n",
      "38/38 [==============================] - 3s 70ms/step - loss: 0.0018\n",
      "Epoch 57/100\n",
      "38/38 [==============================] - 3s 73ms/step - loss: 0.0018\n",
      "Epoch 58/100\n",
      "38/38 [==============================] - 3s 75ms/step - loss: 0.0017\n",
      "Epoch 59/100\n",
      "38/38 [==============================] - 3s 73ms/step - loss: 0.0018\n",
      "Epoch 60/100\n",
      "38/38 [==============================] - 3s 70ms/step - loss: 0.0018\n",
      "Epoch 61/100\n",
      "38/38 [==============================] - 3s 69ms/step - loss: 0.0018\n",
      "Epoch 62/100\n",
      "38/38 [==============================] - 3s 69ms/step - loss: 0.0018\n",
      "Epoch 63/100\n",
      "38/38 [==============================] - 3s 69ms/step - loss: 0.0017\n",
      "Epoch 64/100\n",
      "38/38 [==============================] - 3s 69ms/step - loss: 0.0018\n",
      "Epoch 65/100\n",
      "38/38 [==============================] - 3s 71ms/step - loss: 0.0018\n",
      "Epoch 66/100\n",
      "38/38 [==============================] - 3s 72ms/step - loss: 0.0018\n",
      "Epoch 67/100\n",
      "38/38 [==============================] - 3s 71ms/step - loss: 0.0017\n",
      "Epoch 68/100\n",
      "38/38 [==============================] - 3s 67ms/step - loss: 0.0018\n",
      "Epoch 69/100\n",
      "38/38 [==============================] - 3s 66ms/step - loss: 0.0018\n",
      "Epoch 70/100\n",
      "38/38 [==============================] - 2s 65ms/step - loss: 0.0019\n",
      "Epoch 71/100\n",
      "38/38 [==============================] - 2s 65ms/step - loss: 0.0017\n",
      "Epoch 72/100\n",
      "38/38 [==============================] - 2s 65ms/step - loss: 0.0017\n",
      "Epoch 73/100\n",
      "38/38 [==============================] - 2s 65ms/step - loss: 0.0018\n",
      "Epoch 74/100\n",
      "38/38 [==============================] - 2s 65ms/step - loss: 0.0015\n",
      "Epoch 75/100\n",
      "38/38 [==============================] - 2s 65ms/step - loss: 0.0015\n",
      "Epoch 76/100\n",
      "38/38 [==============================] - 2s 63ms/step - loss: 0.0016\n",
      "Epoch 77/100\n",
      "38/38 [==============================] - 2s 63ms/step - loss: 0.0016\n",
      "Epoch 78/100\n",
      "38/38 [==============================] - 2s 62ms/step - loss: 0.0016\n",
      "Epoch 79/100\n",
      "38/38 [==============================] - 2s 63ms/step - loss: 0.0015\n",
      "Epoch 80/100\n",
      "38/38 [==============================] - 2s 62ms/step - loss: 0.0016\n",
      "Epoch 81/100\n",
      "38/38 [==============================] - 2s 62ms/step - loss: 0.0016\n",
      "Epoch 82/100\n",
      "38/38 [==============================] - 2s 65ms/step - loss: 0.0016\n",
      "Epoch 83/100\n",
      "38/38 [==============================] - 2s 64ms/step - loss: 0.0015\n",
      "Epoch 84/100\n",
      "38/38 [==============================] - 2s 64ms/step - loss: 0.0015\n",
      "Epoch 85/100\n",
      "38/38 [==============================] - 2s 62ms/step - loss: 0.0016\n",
      "Epoch 86/100\n",
      "38/38 [==============================] - 2s 62ms/step - loss: 0.0015\n",
      "Epoch 87/100\n",
      "38/38 [==============================] - 2s 62ms/step - loss: 0.0015\n",
      "Epoch 88/100\n",
      "38/38 [==============================] - 2s 63ms/step - loss: 0.0014\n",
      "Epoch 89/100\n",
      "38/38 [==============================] - 2s 62ms/step - loss: 0.0013\n",
      "Epoch 90/100\n",
      "38/38 [==============================] - 2s 63ms/step - loss: 0.0013\n",
      "Epoch 91/100\n",
      "38/38 [==============================] - 2s 64ms/step - loss: 0.0013\n",
      "Epoch 92/100\n",
      "38/38 [==============================] - 2s 64ms/step - loss: 0.0013\n",
      "Epoch 93/100\n",
      "38/38 [==============================] - 2s 63ms/step - loss: 0.0014\n",
      "Epoch 94/100\n",
      "38/38 [==============================] - 2s 64ms/step - loss: 0.0015\n",
      "Epoch 95/100\n",
      "38/38 [==============================] - 2s 62ms/step - loss: 0.0015\n",
      "Epoch 96/100\n",
      "38/38 [==============================] - 2s 62ms/step - loss: 0.0015\n",
      "Epoch 97/100\n",
      "38/38 [==============================] - 2s 62ms/step - loss: 0.0014\n",
      "Epoch 98/100\n",
      "38/38 [==============================] - 2s 62ms/step - loss: 0.0015\n",
      "Epoch 99/100\n",
      "38/38 [==============================] - 2s 64ms/step - loss: 0.0014\n",
      "Epoch 100/100\n",
      "38/38 [==============================] - 3s 66ms/step - loss: 0.0014\n"
     ]
    },
    {
     "data": {
      "text/plain": [
       "<tensorflow.python.keras.callbacks.History at 0x7fcf83723fd0>"
      ]
     },
     "execution_count": 29,
     "metadata": {},
     "output_type": "execute_result"
    }
   ],
   "source": [
    "regressor.fit(X_train, y_train, epochs = 100, batch_size = 32)"
   ]
  },
  {
   "cell_type": "markdown",
   "id": "c3a61fd9",
   "metadata": {},
   "source": [
    "### Making the Predictions and visualising the results"
   ]
  },
  {
   "cell_type": "code",
   "execution_count": null,
   "id": "1e609acc",
   "metadata": {},
   "outputs": [],
   "source": [
    "# Getting the real stock price of 2017"
   ]
  },
  {
   "cell_type": "code",
   "execution_count": 30,
   "id": "4a4d0466",
   "metadata": {},
   "outputs": [],
   "source": [
    "dataset_test = pd.read_csv('Google_Stock_Price_Test.csv')\n",
    "real_stock_price = dataset_test.iloc[:, 1:2].values"
   ]
  },
  {
   "cell_type": "code",
   "execution_count": null,
   "id": "239eed0b",
   "metadata": {},
   "outputs": [],
   "source": [
    "# Getting the predicted stock price of 2017"
   ]
  },
  {
   "cell_type": "code",
   "execution_count": 32,
   "id": "409c6554",
   "metadata": {},
   "outputs": [],
   "source": [
    "dataset_total = pd.concat((dataset_train['Open'], dataset_test['Open']), axis = 0)\n",
    "inputs = dataset_total[len(dataset_total) - len(dataset_test) - 60:].values\n",
    "inputs = inputs.reshape(-1,1)  # To avoid the format problem in Numpy\n",
    "inputs = sc.transform(inputs)\n",
    "X_test = []\n",
    "for i in range(60, 80):   # Test set contains 20 stock prices so upper bound becomes 60+20 = 80\n",
    "    X_test.append(inputs[i-60:i, 0])\n",
    "    \n",
    "X_test = np.array(X_test)\n",
    "X_test = np.reshape(X_test, (X_test.shape[0], X_test.shape[1], 1)) # here '1' is the no.of indicators which is 'Open Price' over here\n",
    "predicted_stock_price = regressor.predict(X_test)\n",
    "predicted_stock_price = sc.inverse_transform(predicted_stock_price)  # Inverse Scaling"
   ]
  },
  {
   "cell_type": "code",
   "execution_count": null,
   "id": "e9bac3a4",
   "metadata": {},
   "outputs": [],
   "source": [
    "# Visualizing the results"
   ]
  },
  {
   "cell_type": "code",
   "execution_count": 33,
   "id": "c0ae2072",
   "metadata": {},
   "outputs": [
    {
     "data": {
      "image/png": "[encoded data removed]",
      "text/plain": [
       "<Figure size 432x288 with 1 Axes>"
      ]
     },
     "metadata": {
      "needs_background": "light"
     },
     "output_type": "display_data"
    }
   ],
   "source": [
    "plt.plot(real_stock_price, color = 'red', label = 'Real Google Stock Price')\n",
    "plt.plot(predicted_stock_price, color = 'blue', label = 'Predicted Google Stock Price')\n",
    "plt.title('Google Stock Price Prediction')\n",
    "plt.xlabel('Time')\n",
    "plt.ylabel('Google Stock Price')\n",
    "plt.legend()\n",
    "plt.show()"
   ]
  },
  {
   "cell_type": "code",
   "execution_count": null,
   "id": "dddcbc1f",
   "metadata": {},
   "outputs": [],
   "source": []
  }
 ],
 "metadata": {
  "kernelspec": {
   "display_name": "Python 3",
   "language": "python",
   "name": "python3"
  },
  "language_info": {
   "codemirror_mode": {
    "name": "ipython",
    "version": 3
   },
   "file_extension": ".py",
   "mimetype": "text/x-python",
   "name": "python",
   "nbconvert_exporter": "python",
   "pygments_lexer": "ipython3",
   "version": "3.6.10"
  }
 },
 "nbformat": 4,
 "nbformat_minor": 5
}
